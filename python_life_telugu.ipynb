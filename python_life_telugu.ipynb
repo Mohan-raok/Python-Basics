{
 "cells": [
  {
   "cell_type": "code",
   "execution_count": 5,
   "id": "01308eb2",
   "metadata": {},
   "outputs": [
    {
     "name": "stdout",
     "output_type": "stream",
     "text": [
      "hello world\n"
     ]
    }
   ],
   "source": [
    "print(\"hello world\") # print statement"
   ]
  },
  {
   "cell_type": "code",
   "execution_count": 8,
   "id": "48940bda",
   "metadata": {},
   "outputs": [
    {
     "name": "stdout",
     "output_type": "stream",
     "text": [
      "10\n"
     ]
    }
   ],
   "source": [
    "var1=10       #variables is used to  store the values\n",
    "print(var1)"
   ]
  },
  {
   "cell_type": "code",
   "execution_count": 10,
   "id": "03b8d4f2",
   "metadata": {},
   "outputs": [
    {
     "name": "stdout",
     "output_type": "stream",
     "text": [
      "10 10 10\n"
     ]
    }
   ],
   "source": [
    "a=b=c=10 \n",
    "print(a,b,c)"
   ]
  },
  {
   "cell_type": "code",
   "execution_count": 13,
   "id": "da92d362",
   "metadata": {},
   "outputs": [
    {
     "name": "stdout",
     "output_type": "stream",
     "text": [
      "3 1 1\n"
     ]
    }
   ],
   "source": [
    "a,b,c=1,2,3\n",
    "print(c,a,a)"
   ]
  },
  {
   "cell_type": "code",
   "execution_count": 14,
   "id": "af2ae41d",
   "metadata": {},
   "outputs": [
    {
     "name": "stdout",
     "output_type": "stream",
     "text": [
      "6\n"
     ]
    }
   ],
   "source": [
    "d=a+b+c\n",
    "print(d)"
   ]
  },
  {
   "cell_type": "code",
   "execution_count": 15,
   "id": "b89e9cc2",
   "metadata": {},
   "outputs": [
    {
     "name": "stdout",
     "output_type": "stream",
     "text": [
      "a is 1\n",
      "b is 2\n",
      "c is 3\n"
     ]
    }
   ],
   "source": [
    "print('a is',a)\n",
    "print('b is',b)\n",
    "print('c is',c)"
   ]
  },
  {
   "cell_type": "code",
   "execution_count": 17,
   "id": "2f1e8d88",
   "metadata": {},
   "outputs": [
    {
     "name": "stdout",
     "output_type": "stream",
     "text": [
      "1\n"
     ]
    }
   ],
   "source": [
    "# type conversion\n",
    "a=1.2\n",
    "b= int(a)\n",
    "print(b)"
   ]
  },
  {
   "cell_type": "code",
   "execution_count": 20,
   "id": "99471b18",
   "metadata": {},
   "outputs": [
    {
     "name": "stdout",
     "output_type": "stream",
     "text": [
      "10\n"
     ]
    }
   ],
   "source": [
    "a=10\n",
    "b= str(a)\n",
    "print(b)"
   ]
  },
  {
   "cell_type": "code",
   "execution_count": 21,
   "id": "11811d0c",
   "metadata": {},
   "outputs": [
    {
     "data": {
      "text/plain": [
       "int"
      ]
     },
     "execution_count": 21,
     "metadata": {},
     "output_type": "execute_result"
    }
   ],
   "source": [
    "type(a)"
   ]
  },
  {
   "cell_type": "code",
   "execution_count": 24,
   "id": "ece18716",
   "metadata": {},
   "outputs": [],
   "source": [
    "if a>b:\n",
    "    pass   #returns nothing"
   ]
  },
  {
   "cell_type": "code",
   "execution_count": 25,
   "id": "2a5120b8",
   "metadata": {},
   "outputs": [
    {
     "name": "stdout",
     "output_type": "stream",
     "text": [
      "3\n"
     ]
    }
   ],
   "source": [
    "l=[1,2.2,'mohan']    # list can store multiple data types\n",
    "print(len(l))"
   ]
  },
  {
   "cell_type": "code",
   "execution_count": 26,
   "id": "9a201ae0",
   "metadata": {},
   "outputs": [
    {
     "data": {
      "text/plain": [
       "1"
      ]
     },
     "execution_count": 26,
     "metadata": {},
     "output_type": "execute_result"
    }
   ],
   "source": [
    "l[0]"
   ]
  },
  {
   "cell_type": "code",
   "execution_count": 29,
   "id": "8297ab3c",
   "metadata": {},
   "outputs": [
    {
     "name": "stdout",
     "output_type": "stream",
     "text": [
      "[1, 2.2, 'mohan', 10, 10, 10]\n"
     ]
    }
   ],
   "source": [
    "l.append(10)  #list methods\n",
    "print(l)"
   ]
  },
  {
   "cell_type": "code",
   "execution_count": 30,
   "id": "34c46c47",
   "metadata": {},
   "outputs": [
    {
     "name": "stdout",
     "output_type": "stream",
     "text": [
      "[1, 2.2, 'mohan', 10, 10, 10, 5, 6, 7, 8]\n"
     ]
    }
   ],
   "source": [
    "l.extend([5,6,7,8])\n",
    "print(l)"
   ]
  },
  {
   "cell_type": "code",
   "execution_count": 31,
   "id": "086bde90",
   "metadata": {},
   "outputs": [
    {
     "name": "stdout",
     "output_type": "stream",
     "text": [
      "[1, 2.2, 10, 10, 10, 5, 6, 7, 8]\n"
     ]
    }
   ],
   "source": [
    "l.pop(2)\n",
    "print(l)"
   ]
  },
  {
   "cell_type": "code",
   "execution_count": 32,
   "id": "8f62c61f",
   "metadata": {},
   "outputs": [
    {
     "name": "stdout",
     "output_type": "stream",
     "text": [
      "[1, 2, 2.2, 10, 10, 10, 5, 6, 7, 8]\n"
     ]
    }
   ],
   "source": [
    "l.insert(1,2)\n",
    "print(l)"
   ]
  },
  {
   "cell_type": "code",
   "execution_count": 34,
   "id": "71548237",
   "metadata": {},
   "outputs": [
    {
     "name": "stdout",
     "output_type": "stream",
     "text": [
      "[8, 7, 6, 5, 10, 10, 10, 2.2, 2, 1]\n"
     ]
    }
   ],
   "source": [
    "l.reverse()\n",
    "print(l)"
   ]
  },
  {
   "cell_type": "code",
   "execution_count": 35,
   "id": "fb6e9ca6",
   "metadata": {},
   "outputs": [
    {
     "name": "stdout",
     "output_type": "stream",
     "text": [
      "[1, 2, 2.2, 5, 6, 7, 8, 10, 10, 10]\n"
     ]
    }
   ],
   "source": [
    "l.sort()\n",
    "print(l)"
   ]
  },
  {
   "cell_type": "code",
   "execution_count": 37,
   "id": "f6e567fb",
   "metadata": {},
   "outputs": [
    {
     "name": "stdout",
     "output_type": "stream",
     "text": [
      "3\n"
     ]
    }
   ],
   "source": [
    "l.count(10)\n",
    "print(l.count(10))"
   ]
  },
  {
   "cell_type": "code",
   "execution_count": 38,
   "id": "48b87eca",
   "metadata": {},
   "outputs": [
    {
     "name": "stdout",
     "output_type": "stream",
     "text": [
      "m\n",
      "o\n",
      "h\n",
      "a\n",
      "n\n"
     ]
    }
   ],
   "source": [
    "for i in 'mohan':   # for loop\n",
    "    print(i)\n",
    "   "
   ]
  },
  {
   "cell_type": "code",
   "execution_count": 39,
   "id": "61c8a3c8",
   "metadata": {},
   "outputs": [
    {
     "name": "stdout",
     "output_type": "stream",
     "text": [
      "1\n",
      "2\n",
      "3\n",
      "4\n",
      "5\n",
      "6\n",
      "7\n",
      "8\n",
      "9\n"
     ]
    }
   ],
   "source": [
    "for i in range(1,10):\n",
    "    print(i)"
   ]
  },
  {
   "cell_type": "code",
   "execution_count": 40,
   "id": "53cb7ac3",
   "metadata": {},
   "outputs": [
    {
     "ename": "SyntaxError",
     "evalue": "invalid syntax (<ipython-input-40-e42a08948b34>, line 1)",
     "output_type": "error",
     "traceback": [
      "\u001b[1;36m  File \u001b[1;32m\"<ipython-input-40-e42a08948b34>\"\u001b[1;36m, line \u001b[1;32m1\u001b[0m\n\u001b[1;33m    while False\u001b[0m\n\u001b[1;37m               ^\u001b[0m\n\u001b[1;31mSyntaxError\u001b[0m\u001b[1;31m:\u001b[0m invalid syntax\n"
     ]
    }
   ],
   "source": [
    "while False  # while loop\n",
    "   print(i)"
   ]
  },
  {
   "cell_type": "code",
   "execution_count": 42,
   "id": "0153ac83",
   "metadata": {},
   "outputs": [
    {
     "name": "stdout",
     "output_type": "stream",
     "text": [
      "whil\n",
      "whil\n",
      "whil\n"
     ]
    }
   ],
   "source": [
    "c=0\n",
    "while c<3:\n",
    "    c+=1\n",
    "    print('whil')"
   ]
  },
  {
   "cell_type": "code",
   "execution_count": 1,
   "id": "c9b55cff",
   "metadata": {},
   "outputs": [
    {
     "data": {
      "text/plain": [
       "tuple"
      ]
     },
     "execution_count": 1,
     "metadata": {},
     "output_type": "execute_result"
    }
   ],
   "source": [
    "#tuple also can store different data types but it is immutable\n",
    "t=(1,2.2,False,'mohan')\n",
    "type(t)"
   ]
  },
  {
   "cell_type": "code",
   "execution_count": 13,
   "id": "5b8358ce",
   "metadata": {},
   "outputs": [
    {
     "data": {
      "text/plain": [
       "1"
      ]
     },
     "execution_count": 13,
     "metadata": {},
     "output_type": "execute_result"
    }
   ],
   "source": [
    "t[0]"
   ]
  },
  {
   "cell_type": "code",
   "execution_count": 14,
   "id": "1ad29907",
   "metadata": {},
   "outputs": [
    {
     "data": {
      "text/plain": [
       "True"
      ]
     },
     "execution_count": 14,
     "metadata": {},
     "output_type": "execute_result"
    }
   ],
   "source": [
    "'mohan' in t"
   ]
  },
  {
   "cell_type": "code",
   "execution_count": 10,
   "id": "3d7b882c",
   "metadata": {},
   "outputs": [
    {
     "name": "stdout",
     "output_type": "stream",
     "text": [
      "(1, 2.2, True, 'mohan', 1, 2.2, True, 'mohan')\n"
     ]
    }
   ],
   "source": [
    "print(t*2)"
   ]
  },
  {
   "cell_type": "code",
   "execution_count": 15,
   "id": "c723145a",
   "metadata": {},
   "outputs": [
    {
     "data": {
      "text/plain": [
       "(1, 2.2, True, 'mohan', 5, 6, 7, 8)"
      ]
     },
     "execution_count": 15,
     "metadata": {},
     "output_type": "execute_result"
    }
   ],
   "source": [
    "t1=(5,6,7,8)\n",
    "t+t1"
   ]
  },
  {
   "cell_type": "code",
   "execution_count": 16,
   "id": "8bebdc2b",
   "metadata": {},
   "outputs": [
    {
     "data": {
      "text/plain": [
       "5"
      ]
     },
     "execution_count": 16,
     "metadata": {},
     "output_type": "execute_result"
    }
   ],
   "source": [
    "min(t1)"
   ]
  },
  {
   "cell_type": "code",
   "execution_count": 17,
   "id": "fa601bd9",
   "metadata": {},
   "outputs": [
    {
     "data": {
      "text/plain": [
       "8"
      ]
     },
     "execution_count": 17,
     "metadata": {},
     "output_type": "execute_result"
    }
   ],
   "source": [
    "max(t1)"
   ]
  },
  {
   "cell_type": "code",
   "execution_count": 18,
   "id": "620da22b",
   "metadata": {},
   "outputs": [
    {
     "data": {
      "text/plain": [
       "26"
      ]
     },
     "execution_count": 18,
     "metadata": {},
     "output_type": "execute_result"
    }
   ],
   "source": [
    "sum(t1)"
   ]
  },
  {
   "cell_type": "code",
   "execution_count": 20,
   "id": "e0556a0c",
   "metadata": {},
   "outputs": [],
   "source": [
    "t2=(2.2,1,3,2)"
   ]
  },
  {
   "cell_type": "code",
   "execution_count": 22,
   "id": "888cf1b6",
   "metadata": {},
   "outputs": [
    {
     "data": {
      "text/plain": [
       "[1, 2, 2.2, 3]"
      ]
     },
     "execution_count": 22,
     "metadata": {},
     "output_type": "execute_result"
    }
   ],
   "source": [
    "sorted(t2)"
   ]
  },
  {
   "cell_type": "code",
   "execution_count": 27,
   "id": "8a3a5ddf",
   "metadata": {},
   "outputs": [
    {
     "name": "stdout",
     "output_type": "stream",
     "text": [
      "m\n",
      "o\n",
      "end\n"
     ]
    }
   ],
   "source": [
    "for i in 'mohan':\n",
    "    if i=='h':\n",
    "        break\n",
    "    print(i)\n",
    "print('end')"
   ]
  },
  {
   "cell_type": "code",
   "execution_count": 28,
   "id": "491a7754",
   "metadata": {},
   "outputs": [
    {
     "name": "stdout",
     "output_type": "stream",
     "text": [
      "m\n",
      "o\n",
      "a\n",
      "n\n",
      "end\n"
     ]
    }
   ],
   "source": [
    "for i in 'mohan':\n",
    "    if i=='h':\n",
    "        continue\n",
    "    print(i)\n",
    "print('end')"
   ]
  },
  {
   "cell_type": "code",
   "execution_count": 39,
   "id": "74aa51a9",
   "metadata": {},
   "outputs": [
    {
     "data": {
      "text/plain": [
       "str"
      ]
     },
     "execution_count": 39,
     "metadata": {},
     "output_type": "execute_result"
    }
   ],
   "source": [
    "#strings\n",
    "s='mohan'\n",
    "type(s)"
   ]
  },
  {
   "cell_type": "code",
   "execution_count": 30,
   "id": "391768cc",
   "metadata": {},
   "outputs": [
    {
     "data": {
      "text/plain": [
       "'MOHAN'"
      ]
     },
     "execution_count": 30,
     "metadata": {},
     "output_type": "execute_result"
    }
   ],
   "source": [
    "s.upper()"
   ]
  },
  {
   "cell_type": "code",
   "execution_count": 31,
   "id": "f90b0c70",
   "metadata": {},
   "outputs": [
    {
     "data": {
      "text/plain": [
       "'mohan'"
      ]
     },
     "execution_count": 31,
     "metadata": {},
     "output_type": "execute_result"
    }
   ],
   "source": [
    "s.lower()"
   ]
  },
  {
   "cell_type": "code",
   "execution_count": 32,
   "id": "bfd9c7e1",
   "metadata": {},
   "outputs": [
    {
     "data": {
      "text/plain": [
       "['mohan']"
      ]
     },
     "execution_count": 32,
     "metadata": {},
     "output_type": "execute_result"
    }
   ],
   "source": [
    "s.split()"
   ]
  },
  {
   "cell_type": "code",
   "execution_count": 35,
   "id": "6a1c7807",
   "metadata": {},
   "outputs": [
    {
     "data": {
      "text/plain": [
       "'mohan'"
      ]
     },
     "execution_count": 35,
     "metadata": {},
     "output_type": "execute_result"
    }
   ],
   "source": [
    "s.rstrip()"
   ]
  },
  {
   "cell_type": "code",
   "execution_count": 36,
   "id": "36fa9666",
   "metadata": {},
   "outputs": [
    {
     "data": {
      "text/plain": [
       "'me'"
      ]
     },
     "execution_count": 36,
     "metadata": {},
     "output_type": "execute_result"
    }
   ],
   "source": [
    "s1='    me'\n",
    "s1.strip()"
   ]
  },
  {
   "cell_type": "code",
   "execution_count": 37,
   "id": "8c7530f8",
   "metadata": {},
   "outputs": [
    {
     "data": {
      "text/plain": [
       "'    me'"
      ]
     },
     "execution_count": 37,
     "metadata": {},
     "output_type": "execute_result"
    }
   ],
   "source": [
    "s1.rstrip()"
   ]
  },
  {
   "cell_type": "code",
   "execution_count": 38,
   "id": "29327ee6",
   "metadata": {},
   "outputs": [
    {
     "data": {
      "text/plain": [
       "'me'"
      ]
     },
     "execution_count": 38,
     "metadata": {},
     "output_type": "execute_result"
    }
   ],
   "source": [
    "s1.lstrip()"
   ]
  },
  {
   "cell_type": "code",
   "execution_count": 40,
   "id": "39449a4d",
   "metadata": {},
   "outputs": [
    {
     "data": {
      "text/plain": [
       "True"
      ]
     },
     "execution_count": 40,
     "metadata": {},
     "output_type": "execute_result"
    }
   ],
   "source": [
    "s.startswith('m')"
   ]
  },
  {
   "cell_type": "code",
   "execution_count": 41,
   "id": "6d7f483d",
   "metadata": {},
   "outputs": [
    {
     "data": {
      "text/plain": [
       "False"
      ]
     },
     "execution_count": 41,
     "metadata": {},
     "output_type": "execute_result"
    }
   ],
   "source": [
    "s.startswith('n')"
   ]
  },
  {
   "cell_type": "code",
   "execution_count": 42,
   "id": "f577cc18",
   "metadata": {},
   "outputs": [
    {
     "data": {
      "text/plain": [
       "True"
      ]
     },
     "execution_count": 42,
     "metadata": {},
     "output_type": "execute_result"
    }
   ],
   "source": [
    "s.endswith('n')"
   ]
  },
  {
   "cell_type": "code",
   "execution_count": 43,
   "id": "bfa2fe88",
   "metadata": {},
   "outputs": [
    {
     "data": {
      "text/plain": [
       "False"
      ]
     },
     "execution_count": 43,
     "metadata": {},
     "output_type": "execute_result"
    }
   ],
   "source": [
    "s.endswith('s')"
   ]
  },
  {
   "cell_type": "code",
   "execution_count": 44,
   "id": "8e523851",
   "metadata": {},
   "outputs": [
    {
     "data": {
      "text/plain": [
       "1"
      ]
     },
     "execution_count": 44,
     "metadata": {},
     "output_type": "execute_result"
    }
   ],
   "source": [
    "s.count('o')"
   ]
  },
  {
   "cell_type": "code",
   "execution_count": 45,
   "id": "6533371c",
   "metadata": {},
   "outputs": [
    {
     "data": {
      "text/plain": [
       "'manoj'"
      ]
     },
     "execution_count": 45,
     "metadata": {},
     "output_type": "execute_result"
    }
   ],
   "source": [
    "s.replace('mohan','manoj')"
   ]
  },
  {
   "cell_type": "code",
   "execution_count": 46,
   "id": "c465a0dd",
   "metadata": {},
   "outputs": [
    {
     "name": "stdout",
     "output_type": "stream",
     "text": [
      "my name is mohan\n"
     ]
    }
   ],
   "source": [
    "print('my name is {}'.format('mohan'))"
   ]
  },
  {
   "cell_type": "code",
   "execution_count": 47,
   "id": "b988f082",
   "metadata": {},
   "outputs": [
    {
     "data": {
      "text/plain": [
       "dict"
      ]
     },
     "execution_count": 47,
     "metadata": {},
     "output_type": "execute_result"
    }
   ],
   "source": [
    "#sets\n",
    "s={}\n",
    "type(s)"
   ]
  },
  {
   "cell_type": "code",
   "execution_count": 49,
   "id": "0faa7426",
   "metadata": {},
   "outputs": [
    {
     "name": "stdout",
     "output_type": "stream",
     "text": [
      "{1, 2, 3}\n"
     ]
    }
   ],
   "source": [
    "s={1,1,2,3,3,3}\n",
    "print(s)"
   ]
  },
  {
   "cell_type": "code",
   "execution_count": 51,
   "id": "f0cdac90",
   "metadata": {},
   "outputs": [
    {
     "name": "stdout",
     "output_type": "stream",
     "text": [
      "{1, 2, 3, 'mohan'}\n"
     ]
    }
   ],
   "source": [
    "s.add('mohan')\n",
    "print(s)"
   ]
  },
  {
   "cell_type": "code",
   "execution_count": 53,
   "id": "08d014c4",
   "metadata": {},
   "outputs": [
    {
     "name": "stdout",
     "output_type": "stream",
     "text": [
      "{1, 2, 3, 'mohan', 'python'}\n"
     ]
    }
   ],
   "source": [
    "s.update(['python'])\n",
    "print(s)"
   ]
  },
  {
   "cell_type": "code",
   "execution_count": 56,
   "id": "4adb3bb9",
   "metadata": {},
   "outputs": [
    {
     "data": {
      "text/plain": [
       "5"
      ]
     },
     "execution_count": 56,
     "metadata": {},
     "output_type": "execute_result"
    }
   ],
   "source": [
    "len(s)"
   ]
  },
  {
   "cell_type": "code",
   "execution_count": 59,
   "id": "eec29a68",
   "metadata": {},
   "outputs": [
    {
     "name": "stdout",
     "output_type": "stream",
     "text": [
      "{1, 2, 3, 'mohan'}\n"
     ]
    }
   ],
   "source": [
    "s.remove('python')\n",
    "print(s)"
   ]
  },
  {
   "cell_type": "code",
   "execution_count": 60,
   "id": "7bdac7a9",
   "metadata": {},
   "outputs": [
    {
     "name": "stdout",
     "output_type": "stream",
     "text": [
      "{1, 2, 3, 4, 5, 6, 7}\n"
     ]
    }
   ],
   "source": [
    "s1={1,2,3,4,5}\n",
    "s2={3,4,5,6,7}\n",
    "print(s1.union(s2))"
   ]
  },
  {
   "cell_type": "code",
   "execution_count": 61,
   "id": "85e45938",
   "metadata": {},
   "outputs": [
    {
     "name": "stdout",
     "output_type": "stream",
     "text": [
      "{1, 2}\n"
     ]
    }
   ],
   "source": [
    "print(s1.difference(s2))"
   ]
  },
  {
   "cell_type": "code",
   "execution_count": 62,
   "id": "80751d96",
   "metadata": {},
   "outputs": [
    {
     "name": "stdout",
     "output_type": "stream",
     "text": [
      "{3, 4, 5}\n"
     ]
    }
   ],
   "source": [
    "print(s1.intersection(s2))"
   ]
  },
  {
   "cell_type": "code",
   "execution_count": 63,
   "id": "ae5ba93e",
   "metadata": {},
   "outputs": [
    {
     "name": "stdout",
     "output_type": "stream",
     "text": [
      "True\n"
     ]
    }
   ],
   "source": [
    "s1={1,2}\n",
    "s2={3,4,5,6,7}\n",
    "print(s1.isdisjoint(s2))"
   ]
  },
  {
   "cell_type": "code",
   "execution_count": 64,
   "id": "99f71dd2",
   "metadata": {},
   "outputs": [
    {
     "name": "stdout",
     "output_type": "stream",
     "text": [
      "False\n"
     ]
    }
   ],
   "source": [
    "s1={1,2}\n",
    "s2={3,4,5,6,7}\n",
    "print(s1.issubset(s2))"
   ]
  },
  {
   "cell_type": "code",
   "execution_count": 66,
   "id": "d796fd8d",
   "metadata": {},
   "outputs": [
    {
     "name": "stdout",
     "output_type": "stream",
     "text": [
      "True\n"
     ]
    }
   ],
   "source": [
    "s1={1,2}\n",
    "s2={1,2,3,4,5,6,7}\n",
    "print(s1.issubset(s2))"
   ]
  },
  {
   "cell_type": "code",
   "execution_count": 67,
   "id": "c9d59ace",
   "metadata": {},
   "outputs": [
    {
     "data": {
      "text/plain": [
       "dict"
      ]
     },
     "execution_count": 67,
     "metadata": {},
     "output_type": "execute_result"
    }
   ],
   "source": [
    "#dictionary\n",
    "dic={}\n",
    "type(dic)"
   ]
  },
  {
   "cell_type": "code",
   "execution_count": 72,
   "id": "5767552b",
   "metadata": {},
   "outputs": [
    {
     "name": "stdout",
     "output_type": "stream",
     "text": [
      "mohan\n"
     ]
    }
   ],
   "source": [
    "d={'name':'mohan','age':23,'cell':[7569702205,6281808635]}\n",
    "print(d['name'])"
   ]
  },
  {
   "cell_type": "code",
   "execution_count": 73,
   "id": "3fe08198",
   "metadata": {},
   "outputs": [
    {
     "data": {
      "text/plain": [
       "dict_keys(['name', 'age', 'cell'])"
      ]
     },
     "execution_count": 73,
     "metadata": {},
     "output_type": "execute_result"
    }
   ],
   "source": [
    "d.keys()"
   ]
  },
  {
   "cell_type": "code",
   "execution_count": 74,
   "id": "684f7f7b",
   "metadata": {},
   "outputs": [
    {
     "data": {
      "text/plain": [
       "dict_values(['mohan', 23, [7569702205, 6281808635]])"
      ]
     },
     "execution_count": 74,
     "metadata": {},
     "output_type": "execute_result"
    }
   ],
   "source": [
    "d.values()"
   ]
  },
  {
   "cell_type": "code",
   "execution_count": 75,
   "id": "5bf8f6cc",
   "metadata": {},
   "outputs": [
    {
     "data": {
      "text/plain": [
       "dict_items([('name', 'mohan'), ('age', 23), ('cell', [7569702205, 6281808635])])"
      ]
     },
     "execution_count": 75,
     "metadata": {},
     "output_type": "execute_result"
    }
   ],
   "source": [
    "d.items()"
   ]
  },
  {
   "cell_type": "code",
   "execution_count": 83,
   "id": "a1bc758d",
   "metadata": {},
   "outputs": [
    {
     "name": "stdout",
     "output_type": "stream",
     "text": [
      "{'name': 'mohan', 'age': 23, 'cell': [7569702205, 6281808635], 'adress': 'srikakulam'}\n"
     ]
    }
   ],
   "source": [
    "d.update({'adress':'srikakulam'})\n",
    "print(d)"
   ]
  },
  {
   "cell_type": "code",
   "execution_count": 84,
   "id": "4636ec67",
   "metadata": {},
   "outputs": [
    {
     "data": {
      "text/plain": [
       "[7569702205, 6281808635]"
      ]
     },
     "execution_count": 84,
     "metadata": {},
     "output_type": "execute_result"
    }
   ],
   "source": [
    "d.pop('cell')"
   ]
  },
  {
   "cell_type": "code",
   "execution_count": 85,
   "id": "826ad21b",
   "metadata": {},
   "outputs": [
    {
     "name": "stdout",
     "output_type": "stream",
     "text": [
      "{'name': 'mohan', 'age': 23, 'adress': 'srikakulam'}\n"
     ]
    }
   ],
   "source": [
    "print(d)"
   ]
  },
  {
   "cell_type": "code",
   "execution_count": 86,
   "id": "ec8ee44b",
   "metadata": {},
   "outputs": [],
   "source": [
    "d.clear()"
   ]
  },
  {
   "cell_type": "code",
   "execution_count": 87,
   "id": "9673e45d",
   "metadata": {},
   "outputs": [
    {
     "name": "stdout",
     "output_type": "stream",
     "text": [
      "{}\n"
     ]
    }
   ],
   "source": [
    "print(d)"
   ]
  },
  {
   "cell_type": "code",
   "execution_count": 88,
   "id": "a3c1ad67",
   "metadata": {},
   "outputs": [],
   "source": [
    "#functions"
   ]
  },
  {
   "cell_type": "code",
   "execution_count": 91,
   "id": "c14c4d1e",
   "metadata": {},
   "outputs": [
    {
     "name": "stdout",
     "output_type": "stream",
     "text": [
      "5\n"
     ]
    }
   ],
   "source": [
    "def function(a):\n",
    "    print(a)\n",
    "function(5)\n"
   ]
  },
  {
   "cell_type": "code",
   "execution_count": 92,
   "id": "ada79294",
   "metadata": {},
   "outputs": [
    {
     "name": "stdout",
     "output_type": "stream",
     "text": [
      "(5, 7, 9, 5, 6)\n"
     ]
    }
   ],
   "source": [
    "def function(*a):\n",
    "    print(a)\n",
    "function(5,7,9,5,6)"
   ]
  },
  {
   "cell_type": "code",
   "execution_count": 3,
   "id": "d45a1f21",
   "metadata": {},
   "outputs": [
    {
     "name": "stdout",
     "output_type": "stream",
     "text": [
      "{'age': 'one', 'name': 'mohan'}\n"
     ]
    }
   ],
   "source": [
    "def function(**a):\n",
    "    print(a)\n",
    "function(age='one',name='mohan')"
   ]
  },
  {
   "cell_type": "code",
   "execution_count": null,
   "id": "5f08ab8c",
   "metadata": {},
   "outputs": [],
   "source": [
    "# oops\n",
    "#1.class and object \n",
    "# class is the blue print of the object"
   ]
  },
  {
   "cell_type": "code",
   "execution_count": 17,
   "id": "d6b7fdfb",
   "metadata": {},
   "outputs": [
    {
     "name": "stdout",
     "output_type": "stream",
     "text": [
      "brand: honor\n",
      "battery: 5000mah\n",
      "ram: 4gb\n",
      "camera: 64mp\n",
      "price: 13000\n",
      ".................\n",
      "brand: poco\n",
      "battery: 5000mah\n",
      "ram: 4gb\n",
      "camera: 64mp\n",
      "price: 13000\n",
      ".................\n",
      "brand: apple\n",
      "battery: 5000mah\n",
      "ram: 4gb\n",
      "camera: 64mp\n",
      "price: 13000\n",
      ".................\n",
      "brand: redmi\n",
      "battery: 5000mah\n",
      "ram: 4gb\n",
      "camera: 64mp\n",
      "price: 13000\n",
      ".................\n",
      "brand: samsung\n",
      "battery: 5000mah\n",
      "ram: 4gb\n",
      "camera: 64mp\n",
      "price: 13000\n",
      ".................\n"
     ]
    }
   ],
   "source": [
    "class mobile:\n",
    "    def __init__(self,brand,battery,ram,camera,price):\n",
    "        self.brand=brand\n",
    "        self.battery=battery\n",
    "        self.ram=ram\n",
    "        self.camera=camera\n",
    "        self.price=price\n",
    "    def display(self):\n",
    "        print('brand:',self.brand)\n",
    "        print('battery:',self.battery)\n",
    "        print('ram:',self.ram)\n",
    "        print('camera:',self.camera)\n",
    "        print('price:',self.price)\n",
    "        print('.................')\n",
    "        \n",
    "obj=mobile('honor','5000mah','4gb','64mp',13000)\n",
    "obj.display()\n",
    "        \n",
    "obj=mobile('poco','5000mah','4gb','64mp',13000)\n",
    "obj.display() \n",
    "\n",
    "obj=mobile('apple','5000mah','4gb','64mp',13000)\n",
    "obj.display()\n",
    "\n",
    "obj=mobile('redmi','5000mah','4gb','64mp',13000)\n",
    "obj.display()\n",
    "\n",
    "obj=mobile('samsung','5000mah','4gb','64mp',13000)\n",
    "obj.display()"
   ]
  },
  {
   "cell_type": "code",
   "execution_count": 18,
   "id": "f87c15dd",
   "metadata": {},
   "outputs": [],
   "source": [
    "#2.inheritance"
   ]
  },
  {
   "cell_type": "code",
   "execution_count": 19,
   "id": "d47ba85a",
   "metadata": {},
   "outputs": [],
   "source": [
    "#a.single inheritance"
   ]
  },
  {
   "cell_type": "code",
   "execution_count": 27,
   "id": "9fd0da50",
   "metadata": {},
   "outputs": [
    {
     "name": "stdout",
     "output_type": "stream",
     "text": [
      "this is parent class\n",
      "this is child class\n"
     ]
    }
   ],
   "source": [
    "class parent:\n",
    "    def __init__(self):\n",
    "        print('this is parent class')\n",
    "        \n",
    "class child(parent):\n",
    "    def fun(self):\n",
    "        print('this is child class')\n",
    "        \n",
    "obj=child()\n",
    "obj.fun()"
   ]
  },
  {
   "cell_type": "code",
   "execution_count": 22,
   "id": "4452fde4",
   "metadata": {},
   "outputs": [],
   "source": [
    "#b.multilevel inheritance"
   ]
  },
  {
   "cell_type": "code",
   "execution_count": 33,
   "id": "0281f703",
   "metadata": {},
   "outputs": [
    {
     "name": "stdout",
     "output_type": "stream",
     "text": [
      "this is grandchild class\n",
      "this is child class\n",
      "this is parent class\n"
     ]
    }
   ],
   "source": [
    "class parent:\n",
    "    def fun1(self):\n",
    "        print('this is parent class')\n",
    "        \n",
    "class child(parent):\n",
    "    def fun2(self):\n",
    "        print('this is child class')\n",
    "        \n",
    "class grandchild(child):\n",
    "    def fun3(self):\n",
    "        print('this is grandchild class')\n",
    "obj=grandchild()\n",
    "obj.fun3()\n",
    "obj.fun2()\n",
    "obj.fun1()"
   ]
  },
  {
   "cell_type": "code",
   "execution_count": 34,
   "id": "08742d42",
   "metadata": {},
   "outputs": [],
   "source": [
    "#c.heirarchial inheritance"
   ]
  },
  {
   "cell_type": "code",
   "execution_count": 36,
   "id": "4a8943a7",
   "metadata": {},
   "outputs": [
    {
     "name": "stdout",
     "output_type": "stream",
     "text": [
      "this is child2 class\n",
      "this is parent class\n"
     ]
    }
   ],
   "source": [
    "class parent:\n",
    "    def fun1(self):\n",
    "        print('this is parent class')\n",
    "        \n",
    "class child1(parent):\n",
    "    def fun2(self):\n",
    "        print('this is child1 class')\n",
    "        \n",
    "class child2(parent):\n",
    "    def fun3(self):\n",
    "        print('this is child2 class')\n",
    "obj=child2()\n",
    "obj.fun3()\n",
    "#obj.fun2()\n",
    "obj.fun1()"
   ]
  },
  {
   "cell_type": "code",
   "execution_count": 37,
   "id": "346dfd94",
   "metadata": {},
   "outputs": [],
   "source": [
    "#d.multiple inheritance"
   ]
  },
  {
   "cell_type": "code",
   "execution_count": 39,
   "id": "7396f0f8",
   "metadata": {},
   "outputs": [
    {
     "name": "stdout",
     "output_type": "stream",
     "text": [
      "this is child2 class\n",
      "this is mother class\n",
      "this is father class\n"
     ]
    }
   ],
   "source": [
    "class father:\n",
    "    def fun1(self):\n",
    "        print('this is father class')\n",
    "        \n",
    "class mother:\n",
    "    def fun2(self):\n",
    "        print('this is mother class')\n",
    "        \n",
    "class child2(father,mother):\n",
    "    def fun3(self):\n",
    "        print('this is child2 class')\n",
    "obj=child2()\n",
    "obj.fun3()\n",
    "obj.fun2()\n",
    "obj.fun1()"
   ]
  },
  {
   "cell_type": "code",
   "execution_count": 40,
   "id": "d29cde0a",
   "metadata": {},
   "outputs": [],
   "source": [
    "#super keyword"
   ]
  },
  {
   "cell_type": "code",
   "execution_count": 45,
   "id": "40deefa0",
   "metadata": {},
   "outputs": [
    {
     "name": "stdout",
     "output_type": "stream",
     "text": [
      "this is child class\n",
      "this is parent class\n"
     ]
    }
   ],
   "source": [
    "class parent:\n",
    "    def __init__(self):\n",
    "        print('this is parent class')\n",
    "        \n",
    "class child(parent):\n",
    "    def __init__(self):\n",
    "        print('this is child class')\n",
    "        super().__init__()\n",
    "        \n",
    "obj=child()"
   ]
  },
  {
   "cell_type": "code",
   "execution_count": 46,
   "id": "4d156e70",
   "metadata": {},
   "outputs": [],
   "source": [
    "#3.polymorphism"
   ]
  },
  {
   "cell_type": "code",
   "execution_count": 47,
   "id": "42639900",
   "metadata": {},
   "outputs": [],
   "source": [
    "#a.method over loading"
   ]
  },
  {
   "cell_type": "code",
   "execution_count": 51,
   "id": "93df93b5",
   "metadata": {},
   "outputs": [
    {
     "name": "stdout",
     "output_type": "stream",
     "text": [
      "3\n"
     ]
    }
   ],
   "source": [
    "class A:\n",
    "    def sum(self,a,b):\n",
    "        return a+b\n",
    "    def sum(self,a,b,c=0):\n",
    "        return a+b+c\n",
    "obj=A()\n",
    "print(obj.sum(1,2))\n",
    "\n",
    "# it has same class, same function but different parameters."
   ]
  },
  {
   "cell_type": "code",
   "execution_count": 52,
   "id": "088a81b9",
   "metadata": {},
   "outputs": [],
   "source": [
    "#b.method over riding"
   ]
  },
  {
   "cell_type": "code",
   "execution_count": 54,
   "id": "d6ec78bc",
   "metadata": {},
   "outputs": [
    {
     "name": "stdout",
     "output_type": "stream",
     "text": [
      "this is class B\n",
      "this is class A\n"
     ]
    }
   ],
   "source": [
    "class A:\n",
    "    def display(self):\n",
    "        print('this is class A')\n",
    "        \n",
    "class B(A):\n",
    "     def display(self):\n",
    "        print('this is class B')\n",
    "        super().display()\n",
    "        \n",
    "obj=B()\n",
    "obj.display()\n",
    "\n",
    "# It has different class, same function, but different parameters."
   ]
  },
  {
   "cell_type": "code",
   "execution_count": null,
   "id": "0a912b68",
   "metadata": {},
   "outputs": [],
   "source": []
  }
 ],
 "metadata": {
  "kernelspec": {
   "display_name": "Python 3",
   "language": "python",
   "name": "python3"
  },
  "language_info": {
   "codemirror_mode": {
    "name": "ipython",
    "version": 3
   },
   "file_extension": ".py",
   "mimetype": "text/x-python",
   "name": "python",
   "nbconvert_exporter": "python",
   "pygments_lexer": "ipython3",
   "version": "3.8.8"
  }
 },
 "nbformat": 4,
 "nbformat_minor": 5
}
